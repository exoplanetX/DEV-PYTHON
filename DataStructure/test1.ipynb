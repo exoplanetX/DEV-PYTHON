{
 "cells": [
  {
   "cell_type": "code",
   "execution_count": 1,
   "metadata": {
    "collapsed": true
   },
   "outputs": [],
   "source": [
    "class TreeNode:\n",
    "    def __init__(self,val):\n",
    "        self.val= val\n",
    "        self.left=None\n",
    "        self.right=None"
   ]
  },
  {
   "cell_type": "code",
   "execution_count": 10,
   "outputs": [],
   "source": [
    "Input=[0]\n",
    "tree=[0]\n",
    "Input=Input+input().split()\n",
    "cnt=1\n",
    "for item in Input:\n",
    "    tmp=TreeNode(item)\n",
    "    tree.append(tmp)\n",
    "for item in tree[1::]:\n",
    "    if item.val==\"null\":\n",
    "        continue\n",
    "    if 2*cnt<=len(Input) and tree[2*cnt].val != \"null\":\n",
    "        item.left=tree[2*cnt]\n",
    "    if 2*cnt+1<=len(Input) and tree[2*cnt+1].val != \"null\":\n",
    "        item.right=tree[2*cnt+1]\n",
    "    cnt+=1"
   ],
   "metadata": {
    "collapsed": false
   }
  },
  {
   "cell_type": "code",
   "execution_count": null,
   "outputs": [],
   "source": [
    "Input=Input+input().split()\n",
    "print(Input)"
   ],
   "metadata": {
    "collapsed": false
   }
  },
  {
   "cell_type": "code",
   "execution_count": 9,
   "outputs": [
    {
     "name": "stdout",
     "output_type": "stream",
     "text": [
      "None\n"
     ]
    }
   ],
   "source": [
    "print(tree[1].left)\n"
   ],
   "metadata": {
    "collapsed": false
   }
  },
  {
   "cell_type": "code",
   "execution_count": 11,
   "outputs": [
    {
     "data": {
      "text/plain": "[0,\n <__main__.TreeNode at 0x23c3439e430>,\n <__main__.TreeNode at 0x23c3439e400>,\n <__main__.TreeNode at 0x23c3439e460>,\n <__main__.TreeNode at 0x23c3439ec10>,\n <__main__.TreeNode at 0x23c3439ecd0>,\n <__main__.TreeNode at 0x23c3439ec70>]"
     },
     "execution_count": 11,
     "metadata": {},
     "output_type": "execute_result"
    }
   ],
   "source": [
    "tree"
   ],
   "metadata": {
    "collapsed": false
   }
  },
  {
   "cell_type": "code",
   "execution_count": null,
   "outputs": [],
   "source": [],
   "metadata": {
    "collapsed": false
   }
  }
 ],
 "metadata": {
  "kernelspec": {
   "display_name": "Python 3",
   "language": "python",
   "name": "python3"
  },
  "language_info": {
   "codemirror_mode": {
    "name": "ipython",
    "version": 2
   },
   "file_extension": ".py",
   "mimetype": "text/x-python",
   "name": "python",
   "nbconvert_exporter": "python",
   "pygments_lexer": "ipython2",
   "version": "2.7.6"
  }
 },
 "nbformat": 4,
 "nbformat_minor": 0
}
