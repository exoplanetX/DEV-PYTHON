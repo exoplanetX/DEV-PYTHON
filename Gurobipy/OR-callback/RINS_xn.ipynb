{
 "cells": [
  {
   "cell_type": "code",
   "execution_count": 7,
   "id": "93975571-26e5-4c5d-8357-37f86cd3775d",
   "metadata": {},
   "outputs": [],
   "source": [
    "from gurobipy import *\n",
    "import random\n",
    "\n",
    "def RINScallback(model, where):\n",
    "    if where == GRB.Callback.MIPNODE:\n",
    "        # MIP node callback\n",
    "        if model.cbGet(GRB.Callback.MIPNODE_NODCNT) % 100 == 0 and \\\n",
    "                model.cbGet(GRB.Callback.MIPNODE_STATUS) == GRB.OPTIMAL:\n",
    "            submodel = model.copy()\n",
    "            suby = submodel.getVars()\n",
    "            \n",
    "            yrelaxation = model.cbGetNodeRel(model._y)\n",
    "            # 固定变量取值\n",
    "            for i in range(model._N):\n",
    "                if abs(yrelaxation[i]) < 0.01:\n",
    "                    suby[i].ub = 0\n",
    "                elif abs(yrelaxation[i] - 1) < 0.01:\n",
    "                    suby[i].lb = 1\n",
    "            submodel.setParam(GRB.Param.TimeLimit, 30)\n",
    "            submodel.optimize()\n",
    "            if submodel.objval > model.cbGet(GRB.Callback.MIPNODE_OBJBST):\n",
    "                # 将解传递给原模型\n",
    "                for i in range(model._N):\n",
    "                    if abs(suby[i].x) < 0.001:\n",
    "                        model.cbSetSolution(model._y[i], 0.0)\n",
    "                    elif abs(suby[i].x - 1) < 0.001:\n",
    "                        model.cbSetSolution(model._y[i], 1.0)"
   ]
  },
  {
   "cell_type": "code",
   "execution_count": 4,
   "id": "ae70923e-f155-4150-a630-385d74670435",
   "metadata": {},
   "outputs": [
    {
     "name": "stdout",
     "output_type": "stream",
     "text": [
      "Set parameter TimeLimit to value 600\n",
      "Gurobi Optimizer version 9.5.0 build v9.5.0rc5 (mac64[x86])\n",
      "Thread count: 2 physical cores, 4 logical processors, using up to 4 threads\n",
      "Optimize a model with 0 rows, 10 columns and 0 nonzeros\n",
      "Model fingerprint: 0x360fd92f\n",
      "Model has 54 quadratic objective terms\n",
      "Variable types: 0 continuous, 10 integer (10 binary)\n",
      "Coefficient statistics:\n",
      "  Matrix range     [0e+00, 0e+00]\n",
      "  Objective range  [4e+02, 6e+02]\n",
      "  QObjective range [6e+00, 4e+02]\n",
      "  Bounds range     [1e+00, 1e+00]\n",
      "  RHS range        [0e+00, 0e+00]\n",
      "Found heuristic solution: objective -0.0000000\n",
      "Found heuristic solution: objective 1590.5000000\n",
      "Presolve time: 0.02s\n",
      "Presolved: 45 rows, 55 columns, 135 nonzeros\n",
      "Variable types: 0 continuous, 55 integer (55 binary)\n",
      "\n",
      "Root relaxation: objective -2.541500e+03, 17 iterations, 0.00 seconds (0.00 work units)\n",
      "\n",
      "    Nodes    |    Current Node    |     Objective Bounds      |     Work\n",
      " Expl Unexpl |  Obj  Depth IntInf | Incumbent    BestBd   Gap | It/Node Time\n",
      "\n",
      "     0     0 2541.50000    0   10 1590.50000 2541.50000  59.8%     -    0s\n"
     ]
    },
    {
     "ename": "TypeError",
     "evalue": "object of type 'int' has no len()",
     "output_type": "error",
     "traceback": [
      "\u001b[0;31m---------------------------------------------------------------------------\u001b[0m",
      "\u001b[0;31mTypeError\u001b[0m                                 Traceback (most recent call last)",
      "\u001b[0;32msrc/gurobipy/callback.pxi\u001b[0m in \u001b[0;36mgurobipy.CallbackClass.callback\u001b[0;34m()\u001b[0m\n",
      "\u001b[0;32m<ipython-input-3-92f1cf8ba447>\u001b[0m in \u001b[0;36mRINScallback\u001b[0;34m(model, where)\u001b[0m\n\u001b[1;32m     10\u001b[0m             \u001b[0msuby\u001b[0m \u001b[0;34m=\u001b[0m \u001b[0msubmodel\u001b[0m\u001b[0;34m.\u001b[0m\u001b[0mgetVars\u001b[0m\u001b[0;34m(\u001b[0m\u001b[0;34m)\u001b[0m\u001b[0;34m\u001b[0m\u001b[0;34m\u001b[0m\u001b[0m\n\u001b[1;32m     11\u001b[0m \u001b[0;34m\u001b[0m\u001b[0m\n\u001b[0;32m---> 12\u001b[0;31m             \u001b[0myrelaxation\u001b[0m \u001b[0;34m=\u001b[0m \u001b[0mmodel\u001b[0m\u001b[0;34m.\u001b[0m\u001b[0mcbGetNodeRel\u001b[0m\u001b[0;34m(\u001b[0m\u001b[0mmodel\u001b[0m\u001b[0;34m.\u001b[0m\u001b[0m_y\u001b[0m\u001b[0;34m)\u001b[0m\u001b[0;34m\u001b[0m\u001b[0;34m\u001b[0m\u001b[0m\n\u001b[0m\u001b[1;32m     13\u001b[0m             \u001b[0;31m# 固定变量取值\u001b[0m\u001b[0;34m\u001b[0m\u001b[0;34m\u001b[0m\u001b[0;34m\u001b[0m\u001b[0m\n\u001b[1;32m     14\u001b[0m             \u001b[0;32mfor\u001b[0m \u001b[0mi\u001b[0m \u001b[0;32min\u001b[0m \u001b[0mrange\u001b[0m\u001b[0;34m(\u001b[0m\u001b[0mmodel\u001b[0m\u001b[0;34m.\u001b[0m\u001b[0m_N\u001b[0m\u001b[0;34m)\u001b[0m\u001b[0;34m:\u001b[0m\u001b[0;34m\u001b[0m\u001b[0;34m\u001b[0m\u001b[0m\n",
      "\u001b[0;32msrc/gurobipy/model.pxi\u001b[0m in \u001b[0;36mgurobipy.Model.cbGetNodeRel\u001b[0;34m()\u001b[0m\n",
      "\u001b[0;32msrc/gurobipy/model.pxi\u001b[0m in \u001b[0;36mgurobipy.Model._map_coldata_to_vars\u001b[0;34m()\u001b[0m\n",
      "\u001b[0;31mTypeError\u001b[0m: object of type 'int' has no len()"
     ]
    },
    {
     "name": "stderr",
     "output_type": "stream",
     "text": [
      "Exception ignored in: 'gurobipy.callbackstub'\n",
      "Traceback (most recent call last):\n",
      "  File \"src/gurobipy/callback.pxi\", line 209, in gurobipy.CallbackClass.callback\n",
      "  File \"<ipython-input-3-92f1cf8ba447>\", line 12, in RINScallback\n",
      "  File \"src/gurobipy/model.pxi\", line 6274, in gurobipy.Model.cbGetNodeRel\n",
      "  File \"src/gurobipy/model.pxi\", line 6244, in gurobipy.Model._map_coldata_to_vars\n",
      "TypeError: object of type 'int' has no len()\n"
     ]
    },
    {
     "name": "stdout",
     "output_type": "stream",
     "text": [
      "     0     0 1885.00000    0   17 1590.50000 1885.00000  18.5%     -    0s\n"
     ]
    },
    {
     "ename": "TypeError",
     "evalue": "object of type 'int' has no len()",
     "output_type": "error",
     "traceback": [
      "\u001b[0;31m---------------------------------------------------------------------------\u001b[0m",
      "\u001b[0;31mTypeError\u001b[0m                                 Traceback (most recent call last)",
      "\u001b[0;32msrc/gurobipy/callback.pxi\u001b[0m in \u001b[0;36mgurobipy.CallbackClass.callback\u001b[0;34m()\u001b[0m\n",
      "\u001b[0;32m<ipython-input-3-92f1cf8ba447>\u001b[0m in \u001b[0;36mRINScallback\u001b[0;34m(model, where)\u001b[0m\n\u001b[1;32m     10\u001b[0m             \u001b[0msuby\u001b[0m \u001b[0;34m=\u001b[0m \u001b[0msubmodel\u001b[0m\u001b[0;34m.\u001b[0m\u001b[0mgetVars\u001b[0m\u001b[0;34m(\u001b[0m\u001b[0;34m)\u001b[0m\u001b[0;34m\u001b[0m\u001b[0;34m\u001b[0m\u001b[0m\n\u001b[1;32m     11\u001b[0m \u001b[0;34m\u001b[0m\u001b[0m\n\u001b[0;32m---> 12\u001b[0;31m             \u001b[0myrelaxation\u001b[0m \u001b[0;34m=\u001b[0m \u001b[0mmodel\u001b[0m\u001b[0;34m.\u001b[0m\u001b[0mcbGetNodeRel\u001b[0m\u001b[0;34m(\u001b[0m\u001b[0mmodel\u001b[0m\u001b[0;34m.\u001b[0m\u001b[0m_y\u001b[0m\u001b[0;34m)\u001b[0m\u001b[0;34m\u001b[0m\u001b[0;34m\u001b[0m\u001b[0m\n\u001b[0m\u001b[1;32m     13\u001b[0m             \u001b[0;31m# 固定变量取值\u001b[0m\u001b[0;34m\u001b[0m\u001b[0;34m\u001b[0m\u001b[0;34m\u001b[0m\u001b[0m\n\u001b[1;32m     14\u001b[0m             \u001b[0;32mfor\u001b[0m \u001b[0mi\u001b[0m \u001b[0;32min\u001b[0m \u001b[0mrange\u001b[0m\u001b[0;34m(\u001b[0m\u001b[0mmodel\u001b[0m\u001b[0;34m.\u001b[0m\u001b[0m_N\u001b[0m\u001b[0;34m)\u001b[0m\u001b[0;34m:\u001b[0m\u001b[0;34m\u001b[0m\u001b[0;34m\u001b[0m\u001b[0m\n",
      "\u001b[0;32msrc/gurobipy/model.pxi\u001b[0m in \u001b[0;36mgurobipy.Model.cbGetNodeRel\u001b[0;34m()\u001b[0m\n",
      "\u001b[0;32msrc/gurobipy/model.pxi\u001b[0m in \u001b[0;36mgurobipy.Model._map_coldata_to_vars\u001b[0;34m()\u001b[0m\n",
      "\u001b[0;31mTypeError\u001b[0m: object of type 'int' has no len()"
     ]
    },
    {
     "name": "stderr",
     "output_type": "stream",
     "text": [
      "Exception ignored in: 'gurobipy.callbackstub'\n",
      "Traceback (most recent call last):\n",
      "  File \"src/gurobipy/callback.pxi\", line 209, in gurobipy.CallbackClass.callback\n",
      "  File \"<ipython-input-3-92f1cf8ba447>\", line 12, in RINScallback\n",
      "  File \"src/gurobipy/model.pxi\", line 6274, in gurobipy.Model.cbGetNodeRel\n",
      "  File \"src/gurobipy/model.pxi\", line 6244, in gurobipy.Model._map_coldata_to_vars\n",
      "TypeError: object of type 'int' has no len()\n"
     ]
    },
    {
     "name": "stdout",
     "output_type": "stream",
     "text": [
      "     0     0 1737.25000    0   44 1590.50000 1737.25000  9.23%     -    0s\n"
     ]
    },
    {
     "ename": "TypeError",
     "evalue": "object of type 'int' has no len()",
     "output_type": "error",
     "traceback": [
      "\u001b[0;31m---------------------------------------------------------------------------\u001b[0m",
      "\u001b[0;31mTypeError\u001b[0m                                 Traceback (most recent call last)",
      "\u001b[0;32msrc/gurobipy/callback.pxi\u001b[0m in \u001b[0;36mgurobipy.CallbackClass.callback\u001b[0;34m()\u001b[0m\n",
      "\u001b[0;32m<ipython-input-3-92f1cf8ba447>\u001b[0m in \u001b[0;36mRINScallback\u001b[0;34m(model, where)\u001b[0m\n\u001b[1;32m     10\u001b[0m             \u001b[0msuby\u001b[0m \u001b[0;34m=\u001b[0m \u001b[0msubmodel\u001b[0m\u001b[0;34m.\u001b[0m\u001b[0mgetVars\u001b[0m\u001b[0;34m(\u001b[0m\u001b[0;34m)\u001b[0m\u001b[0;34m\u001b[0m\u001b[0;34m\u001b[0m\u001b[0m\n\u001b[1;32m     11\u001b[0m \u001b[0;34m\u001b[0m\u001b[0m\n\u001b[0;32m---> 12\u001b[0;31m             \u001b[0myrelaxation\u001b[0m \u001b[0;34m=\u001b[0m \u001b[0mmodel\u001b[0m\u001b[0;34m.\u001b[0m\u001b[0mcbGetNodeRel\u001b[0m\u001b[0;34m(\u001b[0m\u001b[0mmodel\u001b[0m\u001b[0;34m.\u001b[0m\u001b[0m_y\u001b[0m\u001b[0;34m)\u001b[0m\u001b[0;34m\u001b[0m\u001b[0;34m\u001b[0m\u001b[0m\n\u001b[0m\u001b[1;32m     13\u001b[0m             \u001b[0;31m# 固定变量取值\u001b[0m\u001b[0;34m\u001b[0m\u001b[0;34m\u001b[0m\u001b[0;34m\u001b[0m\u001b[0m\n\u001b[1;32m     14\u001b[0m             \u001b[0;32mfor\u001b[0m \u001b[0mi\u001b[0m \u001b[0;32min\u001b[0m \u001b[0mrange\u001b[0m\u001b[0;34m(\u001b[0m\u001b[0mmodel\u001b[0m\u001b[0;34m.\u001b[0m\u001b[0m_N\u001b[0m\u001b[0;34m)\u001b[0m\u001b[0;34m:\u001b[0m\u001b[0;34m\u001b[0m\u001b[0;34m\u001b[0m\u001b[0m\n",
      "\u001b[0;32msrc/gurobipy/model.pxi\u001b[0m in \u001b[0;36mgurobipy.Model.cbGetNodeRel\u001b[0;34m()\u001b[0m\n",
      "\u001b[0;32msrc/gurobipy/model.pxi\u001b[0m in \u001b[0;36mgurobipy.Model._map_coldata_to_vars\u001b[0;34m()\u001b[0m\n",
      "\u001b[0;31mTypeError\u001b[0m: object of type 'int' has no len()"
     ]
    },
    {
     "name": "stderr",
     "output_type": "stream",
     "text": [
      "Exception ignored in: 'gurobipy.callbackstub'\n",
      "Traceback (most recent call last):\n",
      "  File \"src/gurobipy/callback.pxi\", line 209, in gurobipy.CallbackClass.callback\n",
      "  File \"<ipython-input-3-92f1cf8ba447>\", line 12, in RINScallback\n",
      "  File \"src/gurobipy/model.pxi\", line 6274, in gurobipy.Model.cbGetNodeRel\n",
      "  File \"src/gurobipy/model.pxi\", line 6244, in gurobipy.Model._map_coldata_to_vars\n",
      "TypeError: object of type 'int' has no len()\n"
     ]
    },
    {
     "name": "stdout",
     "output_type": "stream",
     "text": [
      "     0     0 1737.25000    0   44 1590.50000 1737.25000  9.23%     -    0s\n"
     ]
    },
    {
     "ename": "TypeError",
     "evalue": "object of type 'int' has no len()",
     "output_type": "error",
     "traceback": [
      "\u001b[0;31m---------------------------------------------------------------------------\u001b[0m",
      "\u001b[0;31mTypeError\u001b[0m                                 Traceback (most recent call last)",
      "\u001b[0;32msrc/gurobipy/callback.pxi\u001b[0m in \u001b[0;36mgurobipy.CallbackClass.callback\u001b[0;34m()\u001b[0m\n",
      "\u001b[0;32m<ipython-input-3-92f1cf8ba447>\u001b[0m in \u001b[0;36mRINScallback\u001b[0;34m(model, where)\u001b[0m\n\u001b[1;32m     10\u001b[0m             \u001b[0msuby\u001b[0m \u001b[0;34m=\u001b[0m \u001b[0msubmodel\u001b[0m\u001b[0;34m.\u001b[0m\u001b[0mgetVars\u001b[0m\u001b[0;34m(\u001b[0m\u001b[0;34m)\u001b[0m\u001b[0;34m\u001b[0m\u001b[0;34m\u001b[0m\u001b[0m\n\u001b[1;32m     11\u001b[0m \u001b[0;34m\u001b[0m\u001b[0m\n\u001b[0;32m---> 12\u001b[0;31m             \u001b[0myrelaxation\u001b[0m \u001b[0;34m=\u001b[0m \u001b[0mmodel\u001b[0m\u001b[0;34m.\u001b[0m\u001b[0mcbGetNodeRel\u001b[0m\u001b[0;34m(\u001b[0m\u001b[0mmodel\u001b[0m\u001b[0;34m.\u001b[0m\u001b[0m_y\u001b[0m\u001b[0;34m)\u001b[0m\u001b[0;34m\u001b[0m\u001b[0;34m\u001b[0m\u001b[0m\n\u001b[0m\u001b[1;32m     13\u001b[0m             \u001b[0;31m# 固定变量取值\u001b[0m\u001b[0;34m\u001b[0m\u001b[0;34m\u001b[0m\u001b[0;34m\u001b[0m\u001b[0m\n\u001b[1;32m     14\u001b[0m             \u001b[0;32mfor\u001b[0m \u001b[0mi\u001b[0m \u001b[0;32min\u001b[0m \u001b[0mrange\u001b[0m\u001b[0;34m(\u001b[0m\u001b[0mmodel\u001b[0m\u001b[0;34m.\u001b[0m\u001b[0m_N\u001b[0m\u001b[0;34m)\u001b[0m\u001b[0;34m:\u001b[0m\u001b[0;34m\u001b[0m\u001b[0;34m\u001b[0m\u001b[0m\n",
      "\u001b[0;32msrc/gurobipy/model.pxi\u001b[0m in \u001b[0;36mgurobipy.Model.cbGetNodeRel\u001b[0;34m()\u001b[0m\n",
      "\u001b[0;32msrc/gurobipy/model.pxi\u001b[0m in \u001b[0;36mgurobipy.Model._map_coldata_to_vars\u001b[0;34m()\u001b[0m\n",
      "\u001b[0;31mTypeError\u001b[0m: object of type 'int' has no len()"
     ]
    },
    {
     "name": "stderr",
     "output_type": "stream",
     "text": [
      "Exception ignored in: 'gurobipy.callbackstub'\n",
      "Traceback (most recent call last):\n",
      "  File \"src/gurobipy/callback.pxi\", line 209, in gurobipy.CallbackClass.callback\n",
      "  File \"<ipython-input-3-92f1cf8ba447>\", line 12, in RINScallback\n",
      "  File \"src/gurobipy/model.pxi\", line 6274, in gurobipy.Model.cbGetNodeRel\n",
      "  File \"src/gurobipy/model.pxi\", line 6244, in gurobipy.Model._map_coldata_to_vars\n",
      "TypeError: object of type 'int' has no len()\n"
     ]
    },
    {
     "ename": "TypeError",
     "evalue": "object of type 'int' has no len()",
     "output_type": "error",
     "traceback": [
      "\u001b[0;31m---------------------------------------------------------------------------\u001b[0m",
      "\u001b[0;31mTypeError\u001b[0m                                 Traceback (most recent call last)",
      "\u001b[0;32msrc/gurobipy/callback.pxi\u001b[0m in \u001b[0;36mgurobipy.CallbackClass.callback\u001b[0;34m()\u001b[0m\n",
      "\u001b[0;32m<ipython-input-3-92f1cf8ba447>\u001b[0m in \u001b[0;36mRINScallback\u001b[0;34m(model, where)\u001b[0m\n\u001b[1;32m     10\u001b[0m             \u001b[0msuby\u001b[0m \u001b[0;34m=\u001b[0m \u001b[0msubmodel\u001b[0m\u001b[0;34m.\u001b[0m\u001b[0mgetVars\u001b[0m\u001b[0;34m(\u001b[0m\u001b[0;34m)\u001b[0m\u001b[0;34m\u001b[0m\u001b[0;34m\u001b[0m\u001b[0m\n\u001b[1;32m     11\u001b[0m \u001b[0;34m\u001b[0m\u001b[0m\n\u001b[0;32m---> 12\u001b[0;31m             \u001b[0myrelaxation\u001b[0m \u001b[0;34m=\u001b[0m \u001b[0mmodel\u001b[0m\u001b[0;34m.\u001b[0m\u001b[0mcbGetNodeRel\u001b[0m\u001b[0;34m(\u001b[0m\u001b[0mmodel\u001b[0m\u001b[0;34m.\u001b[0m\u001b[0m_y\u001b[0m\u001b[0;34m)\u001b[0m\u001b[0;34m\u001b[0m\u001b[0;34m\u001b[0m\u001b[0m\n\u001b[0m\u001b[1;32m     13\u001b[0m             \u001b[0;31m# 固定变量取值\u001b[0m\u001b[0;34m\u001b[0m\u001b[0;34m\u001b[0m\u001b[0;34m\u001b[0m\u001b[0m\n\u001b[1;32m     14\u001b[0m             \u001b[0;32mfor\u001b[0m \u001b[0mi\u001b[0m \u001b[0;32min\u001b[0m \u001b[0mrange\u001b[0m\u001b[0;34m(\u001b[0m\u001b[0mmodel\u001b[0m\u001b[0;34m.\u001b[0m\u001b[0m_N\u001b[0m\u001b[0;34m)\u001b[0m\u001b[0;34m:\u001b[0m\u001b[0;34m\u001b[0m\u001b[0;34m\u001b[0m\u001b[0m\n",
      "\u001b[0;32msrc/gurobipy/model.pxi\u001b[0m in \u001b[0;36mgurobipy.Model.cbGetNodeRel\u001b[0;34m()\u001b[0m\n",
      "\u001b[0;32msrc/gurobipy/model.pxi\u001b[0m in \u001b[0;36mgurobipy.Model._map_coldata_to_vars\u001b[0;34m()\u001b[0m\n",
      "\u001b[0;31mTypeError\u001b[0m: object of type 'int' has no len()"
     ]
    },
    {
     "name": "stderr",
     "output_type": "stream",
     "text": [
      "Exception ignored in: 'gurobipy.callbackstub'\n",
      "Traceback (most recent call last):\n",
      "  File \"src/gurobipy/callback.pxi\", line 209, in gurobipy.CallbackClass.callback\n",
      "  File \"<ipython-input-3-92f1cf8ba447>\", line 12, in RINScallback\n",
      "  File \"src/gurobipy/model.pxi\", line 6274, in gurobipy.Model.cbGetNodeRel\n",
      "  File \"src/gurobipy/model.pxi\", line 6244, in gurobipy.Model._map_coldata_to_vars\n",
      "TypeError: object of type 'int' has no len()\n"
     ]
    },
    {
     "name": "stdout",
     "output_type": "stream",
     "text": [
      "     0     2 1737.25000    0   44 1590.50000 1737.25000  9.23%     -    0s\n",
      "\n",
      "Cutting planes:\n",
      "  Gomory: 2\n",
      "  MIR: 15\n",
      "  Zero half: 17\n",
      "  RLT: 9\n",
      "  BQP: 2\n",
      "\n",
      "Explored 28 nodes (446 simplex iterations) in 0.46 seconds (0.02 work units)\n",
      "Thread count was 4 (of 4 available processors)\n",
      "\n",
      "Solution count 2: 1590.5 -0 \n",
      "\n",
      "Optimal solution found (tolerance 1.00e-04)\n",
      "Best objective 1.590500000000e+03, best bound 1.590500000000e+03, gap 0.0000%\n",
      "\n",
      "User-callback calls 201, time in user-callback 0.25 sec\n",
      "obj= 1590.5\n",
      "y[0] = 0.0\n",
      "y[1] = 1.0\n",
      "y[2] = 0.0\n",
      "y[3] = 1.0\n",
      "y[4] = 0.0\n",
      "y[5] = 1.0\n",
      "y[6] = 1.0\n",
      "y[7] = 1.0\n",
      "y[8] = 0.0\n",
      "y[9] = 0.0\n"
     ]
    }
   ],
   "source": [
    "try:\n",
    "    random.seed(1)\n",
    "    N=10\n",
    "    random.seed(1)\n",
    "    Cmatrix={(i,j):random.randint(0,100) for i in range(N) for j in range(N)}\n",
    "    m=Model('MaximumCut')\n",
    "\n",
    "    y=m.addVars(N,vtype=GRB.BINARY,name='y')\n",
    "    obj=QuadExpr()\n",
    "    for i in range(N):\n",
    "        for j in range(N):\n",
    "            obj=obj+Cmatrix[i,j]*(y[i]+y[j]-2*y[i]*y[j])\n",
    "    m.setObjective(0.5*obj,-1)\n",
    "    m.Params.TimeLimit=600\n",
    "    m._y=y\n",
    "    m._y=N\n",
    "    m.optimize(RINScallback)\n",
    "    print(\"obj=\",m.ObjVal)\n",
    "    for i in range(N):\n",
    "        print(y[i].VarName,'=',y[i].x)\n",
    "\n",
    "\n",
    "except GurobiError:\n",
    "    print('Error reported')"
   ]
  },
  {
   "cell_type": "code",
   "execution_count": 5,
   "id": "bbbf96e8-4fa5-409c-809d-cae8b8d72f0f",
   "metadata": {},
   "outputs": [
    {
     "ename": "NameError",
     "evalue": "name 'model' is not defined",
     "output_type": "error",
     "traceback": [
      "\u001b[0;31m---------------------------------------------------------------------------\u001b[0m",
      "\u001b[0;31mNameError\u001b[0m                                 Traceback (most recent call last)",
      "\u001b[0;32m<ipython-input-5-3a0276efe1a9>\u001b[0m in \u001b[0;36m<module>\u001b[0;34m\u001b[0m\n\u001b[0;32m----> 1\u001b[0;31m \u001b[0mmodel\u001b[0m\u001b[0;34m.\u001b[0m\u001b[0mwrite\u001b[0m\u001b[0;34m(\u001b[0m\u001b[0;34m\"RINS.lp\"\u001b[0m\u001b[0;34m)\u001b[0m\u001b[0;34m\u001b[0m\u001b[0;34m\u001b[0m\u001b[0m\n\u001b[0m",
      "\u001b[0;31mNameError\u001b[0m: name 'model' is not defined"
     ]
    }
   ],
   "source": [
    "model.write(\"RINS.lp\")"
   ]
  },
  {
   "cell_type": "code",
   "execution_count": null,
   "id": "50c96e73",
   "metadata": {},
   "outputs": [],
   "source": []
  }
 ],
 "metadata": {
  "kernelspec": {
   "display_name": "Python 3",
   "language": "python",
   "name": "python3"
  },
  "language_info": {
   "codemirror_mode": {
    "name": "ipython",
    "version": 3
   },
   "file_extension": ".py",
   "mimetype": "text/x-python",
   "name": "python",
   "nbconvert_exporter": "python",
   "pygments_lexer": "ipython3",
   "version": "3.8.8"
  }
 },
 "nbformat": 4,
 "nbformat_minor": 5
}
