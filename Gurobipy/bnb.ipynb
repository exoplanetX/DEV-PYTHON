{
 "cells": [
  {
   "cell_type": "code",
   "execution_count": 3,
   "metadata": {
    "collapsed": true
   },
   "outputs": [],
   "source": [
    "import pybnb"
   ]
  },
  {
   "cell_type": "code",
   "execution_count": 4,
   "outputs": [],
   "source": [
    "# simple.py\n",
    "\n",
    "\n",
    "class Simple(pybnb.Problem):\n",
    "    def __init__(self):\n",
    "        self.bounds = [0.0,1.0]\n",
    "    def sense(self):\n",
    "        return pybnb.minimize\n",
    "    def objective(self):\n",
    "        return round(self.bounds[1] - self.bounds[0], 3)\n",
    "    def bound(self):\n",
    "        return -(self.bounds[1] - self.bounds[0])**2\n",
    "    def save_state(self, node):\n",
    "        node.state = self.bounds\n",
    "    def load_state(self, node):\n",
    "        self.bounds = node.state\n",
    "    def branch(self):\n",
    "        L, U = self.bounds\n",
    "        mid = 0.5 * (L + U)\n",
    "        for l,u in [(L,mid), (mid,U)]:\n",
    "            child = pybnb.Node()\n",
    "            child.state = (l,u)\n",
    "            yield child"
   ],
   "metadata": {
    "collapsed": false
   }
  },
  {
   "cell_type": "code",
   "execution_count": 8,
   "outputs": [
    {
     "ename": "ImportError",
     "evalue": "DLL load failed while importing MPI: 找不到指定的模块。",
     "output_type": "error",
     "traceback": [
      "\u001B[1;31m---------------------------------------------------------------------------\u001B[0m",
      "\u001B[1;31mImportError\u001B[0m                               Traceback (most recent call last)",
      "Input \u001B[1;32mIn [8]\u001B[0m, in \u001B[0;36m<cell line: 2>\u001B[1;34m()\u001B[0m\n\u001B[0;32m      1\u001B[0m problem \u001B[38;5;241m=\u001B[39m Simple()\n\u001B[1;32m----> 2\u001B[0m results \u001B[38;5;241m=\u001B[39m \u001B[43mpybnb\u001B[49m\u001B[38;5;241;43m.\u001B[39;49m\u001B[43msolve\u001B[49m\u001B[43m(\u001B[49m\u001B[43mproblem\u001B[49m\u001B[43m,\u001B[49m\u001B[43m \u001B[49m\u001B[43mabsolute_gap\u001B[49m\u001B[38;5;241;43m=\u001B[39;49m\u001B[38;5;241;43m1e-9\u001B[39;49m\u001B[43m)\u001B[49m\n",
      "File \u001B[1;32m~\\anaconda3\\lib\\site-packages\\pybnb\\solver.py:1189\u001B[0m, in \u001B[0;36msolve\u001B[1;34m(problem, comm, dispatcher_rank, log_filename, results_filename, **kwds)\u001B[0m\n\u001B[0;32m   1138\u001B[0m \u001B[38;5;28;01mdef\u001B[39;00m \u001B[38;5;21msolve\u001B[39m(problem,\n\u001B[0;32m   1139\u001B[0m           comm\u001B[38;5;241m=\u001B[39m_notset,\n\u001B[0;32m   1140\u001B[0m           dispatcher_rank\u001B[38;5;241m=\u001B[39m\u001B[38;5;241m0\u001B[39m,\n\u001B[0;32m   1141\u001B[0m           log_filename\u001B[38;5;241m=\u001B[39m\u001B[38;5;28;01mNone\u001B[39;00m,\n\u001B[0;32m   1142\u001B[0m           results_filename\u001B[38;5;241m=\u001B[39m\u001B[38;5;28;01mNone\u001B[39;00m,\n\u001B[0;32m   1143\u001B[0m           \u001B[38;5;241m*\u001B[39m\u001B[38;5;241m*\u001B[39mkwds):\n\u001B[0;32m   1144\u001B[0m     \u001B[38;5;124;03m\"\"\"Solves a branch-and-bound problem and returns the\u001B[39;00m\n\u001B[0;32m   1145\u001B[0m \u001B[38;5;124;03m    solution.\u001B[39;00m\n\u001B[0;32m   1146\u001B[0m \n\u001B[1;32m   (...)\u001B[0m\n\u001B[0;32m   1186\u001B[0m \u001B[38;5;124;03m        An object storing information about the solve.\u001B[39;00m\n\u001B[0;32m   1187\u001B[0m \u001B[38;5;124;03m    \"\"\"\u001B[39;00m\n\u001B[1;32m-> 1189\u001B[0m     opt \u001B[38;5;241m=\u001B[39m \u001B[43mSolver\u001B[49m\u001B[43m(\u001B[49m\u001B[43mcomm\u001B[49m\u001B[38;5;241;43m=\u001B[39;49m\u001B[43mcomm\u001B[49m\u001B[43m,\u001B[49m\n\u001B[0;32m   1190\u001B[0m \u001B[43m                 \u001B[49m\u001B[43mdispatcher_rank\u001B[49m\u001B[38;5;241;43m=\u001B[39;49m\u001B[43mdispatcher_rank\u001B[49m\u001B[43m)\u001B[49m\n\u001B[0;32m   1192\u001B[0m     \u001B[38;5;28;01mif\u001B[39;00m (opt\u001B[38;5;241m.\u001B[39mis_dispatcher) \u001B[38;5;129;01mand\u001B[39;00m \\\n\u001B[0;32m   1193\u001B[0m        (\u001B[38;5;124m\"\u001B[39m\u001B[38;5;124mlog\u001B[39m\u001B[38;5;124m\"\u001B[39m \u001B[38;5;129;01mnot\u001B[39;00m \u001B[38;5;129;01min\u001B[39;00m kwds) \u001B[38;5;129;01mand\u001B[39;00m \\\n\u001B[0;32m   1194\u001B[0m        (log_filename \u001B[38;5;129;01mis\u001B[39;00m \u001B[38;5;129;01mnot\u001B[39;00m \u001B[38;5;28;01mNone\u001B[39;00m):\n\u001B[0;32m   1195\u001B[0m         kwds[\u001B[38;5;124m\"\u001B[39m\u001B[38;5;124mlog\u001B[39m\u001B[38;5;124m\"\u001B[39m] \u001B[38;5;241m=\u001B[39m get_simple_logger(\n\u001B[0;32m   1196\u001B[0m             filename\u001B[38;5;241m=\u001B[39mlog_filename)\n",
      "File \u001B[1;32m~\\anaconda3\\lib\\site-packages\\pybnb\\solver.py:107\u001B[0m, in \u001B[0;36mSolver.__init__\u001B[1;34m(self, comm, dispatcher_rank)\u001B[0m\n\u001B[0;32m    105\u001B[0m \u001B[38;5;28mself\u001B[39m\u001B[38;5;241m.\u001B[39m_time \u001B[38;5;241m=\u001B[39m \u001B[38;5;28;01mNone\u001B[39;00m\n\u001B[0;32m    106\u001B[0m \u001B[38;5;28;01mif\u001B[39;00m mpi:\n\u001B[1;32m--> 107\u001B[0m     \u001B[38;5;28;01mimport\u001B[39;00m \u001B[38;5;21;01mmpi4py\u001B[39;00m\u001B[38;5;21;01m.\u001B[39;00m\u001B[38;5;21;01mMPI\u001B[39;00m\n\u001B[0;32m    108\u001B[0m     \u001B[38;5;28;01massert\u001B[39;00m mpi4py\u001B[38;5;241m.\u001B[39mMPI\u001B[38;5;241m.\u001B[39mIs_initialized()\n\u001B[0;32m    109\u001B[0m     \u001B[38;5;28;01massert\u001B[39;00m comm \u001B[38;5;129;01mis\u001B[39;00m \u001B[38;5;129;01mnot\u001B[39;00m \u001B[38;5;28;01mNone\u001B[39;00m\n",
      "\u001B[1;31mImportError\u001B[0m: DLL load failed while importing MPI: 找不到指定的模块。"
     ]
    }
   ],
   "source": [
    "problem = Simple()\n",
    "results = pybnb.solve(problem, absolute_gap=1e-9)"
   ],
   "metadata": {
    "collapsed": false
   }
  },
  {
   "cell_type": "code",
   "execution_count": 7,
   "outputs": [
    {
     "ename": "ImportError",
     "evalue": "DLL load failed while importing MPI: 找不到指定的模块。",
     "output_type": "error",
     "traceback": [
      "\u001B[1;31m---------------------------------------------------------------------------\u001B[0m",
      "\u001B[1;31mImportError\u001B[0m                               Traceback (most recent call last)",
      "Input \u001B[1;32mIn [7]\u001B[0m, in \u001B[0;36m<cell line: 50>\u001B[1;34m()\u001B[0m\n\u001B[0;32m     46\u001B[0m         \u001B[38;5;28;01mpass\u001B[39;00m\n\u001B[0;32m     49\u001B[0m problem \u001B[38;5;241m=\u001B[39m Simple()\n\u001B[1;32m---> 50\u001B[0m solver \u001B[38;5;241m=\u001B[39m \u001B[43mpybnb\u001B[49m\u001B[38;5;241;43m.\u001B[39;49m\u001B[43mSolver\u001B[49m\u001B[43m(\u001B[49m\u001B[43m)\u001B[49m\n\u001B[0;32m     51\u001B[0m results \u001B[38;5;241m=\u001B[39m solver\u001B[38;5;241m.\u001B[39msolve(problem, absolute_gap\u001B[38;5;241m=\u001B[39m\u001B[38;5;241m1e-8\u001B[39m)\n",
      "File \u001B[1;32m~\\anaconda3\\lib\\site-packages\\pybnb\\solver.py:107\u001B[0m, in \u001B[0;36mSolver.__init__\u001B[1;34m(self, comm, dispatcher_rank)\u001B[0m\n\u001B[0;32m    105\u001B[0m \u001B[38;5;28mself\u001B[39m\u001B[38;5;241m.\u001B[39m_time \u001B[38;5;241m=\u001B[39m \u001B[38;5;28;01mNone\u001B[39;00m\n\u001B[0;32m    106\u001B[0m \u001B[38;5;28;01mif\u001B[39;00m mpi:\n\u001B[1;32m--> 107\u001B[0m     \u001B[38;5;28;01mimport\u001B[39;00m \u001B[38;5;21;01mmpi4py\u001B[39;00m\u001B[38;5;21;01m.\u001B[39;00m\u001B[38;5;21;01mMPI\u001B[39;00m\n\u001B[0;32m    108\u001B[0m     \u001B[38;5;28;01massert\u001B[39;00m mpi4py\u001B[38;5;241m.\u001B[39mMPI\u001B[38;5;241m.\u001B[39mIs_initialized()\n\u001B[0;32m    109\u001B[0m     \u001B[38;5;28;01massert\u001B[39;00m comm \u001B[38;5;129;01mis\u001B[39;00m \u001B[38;5;129;01mnot\u001B[39;00m \u001B[38;5;28;01mNone\u001B[39;00m\n",
      "\u001B[1;31mImportError\u001B[0m: DLL load failed while importing MPI: 找不到指定的模块。"
     ]
    }
   ],
   "source": [
    "# simple.py\n",
    "\n",
    "\n",
    "class Simple(pybnb.Problem):\n",
    "    def __init__(self):\n",
    "        self._xL, self._xU = 0, 1\n",
    "\n",
    "    #\n",
    "    # required methods\n",
    "    #\n",
    "    def sense(self):\n",
    "        return pybnb.minimize\n",
    "\n",
    "    def objective(self):\n",
    "        return round(self._xU - self._xL, 3)\n",
    "\n",
    "    def bound(self):\n",
    "        return -((self._xU - self._xL) ** 2)\n",
    "\n",
    "    def save_state(self, node):\n",
    "        node.state = (self._xL, self._xU)\n",
    "\n",
    "    def load_state(self, node):\n",
    "        (self._xL, self._xU) = node.state\n",
    "\n",
    "    def branch(self):\n",
    "        xL, xU = self._xL, self._xU\n",
    "        xM = 0.5 * (xL + xU)\n",
    "        child = pybnb.Node()\n",
    "        child.state = (xL, xM)\n",
    "        yield child\n",
    "        child = pybnb.Node()\n",
    "        child.state = (xM, xU)\n",
    "        yield child\n",
    "\n",
    "    #\n",
    "    # optional methods\n",
    "    #\n",
    "    def notify_solve_begins(self, comm, worker_comm, convergence_checker):\n",
    "        pass\n",
    "\n",
    "    def notify_new_best_node(self, node, current):\n",
    "        pass\n",
    "\n",
    "    def notify_solve_finished(self, comm, worker_comm, results):\n",
    "        pass\n",
    "\n",
    "\n",
    "problem = Simple()\n",
    "solver = pybnb.Solver()\n",
    "results = solver.solve(problem, absolute_gap=1e-8)"
   ],
   "metadata": {
    "collapsed": false
   }
  },
  {
   "cell_type": "code",
   "execution_count": null,
   "outputs": [],
   "source": [],
   "metadata": {
    "collapsed": false
   }
  }
 ],
 "metadata": {
  "kernelspec": {
   "display_name": "Python 3",
   "language": "python",
   "name": "python3"
  },
  "language_info": {
   "codemirror_mode": {
    "name": "ipython",
    "version": 2
   },
   "file_extension": ".py",
   "mimetype": "text/x-python",
   "name": "python",
   "nbconvert_exporter": "python",
   "pygments_lexer": "ipython2",
   "version": "2.7.6"
  }
 },
 "nbformat": 4,
 "nbformat_minor": 0
}
