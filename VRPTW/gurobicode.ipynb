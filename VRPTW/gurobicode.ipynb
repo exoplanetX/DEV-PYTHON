{
 "cells": [
  {
   "cell_type": "code",
   "execution_count": 1,
   "id": "fcf1fb08",
   "metadata": {
    "pycharm": {
     "name": "#%%\n"
    }
   },
   "outputs": [],
   "source": [
    "import math\n",
    "from gurobipy import *"
   ]
  },
  {
   "cell_type": "code",
   "execution_count": 2,
   "id": "b823bf68",
   "metadata": {
    "pycharm": {
     "name": "#%%\n"
    }
   },
   "outputs": [],
   "source": [
    "class Data:\n",
    "    customerNum = 0\n",
    "    vehicleNum  = 0\n",
    "    capacity    = 0\n",
    "    cor_X       = []\n",
    "    cor_Y       = []\n",
    "    demand      = []\n",
    "    serviceTime = []\n",
    "    readyTime   = []\n",
    "    dueTime     = []\n",
    "    disMatrix   = [[]]\n"
   ]
  },
  {
   "cell_type": "code",
   "execution_count": 5,
   "id": "6ac11f1c",
   "metadata": {
    "pycharm": {
     "name": "#%%\n"
    }
   },
   "outputs": [],
   "source": [
    "def readData(data, path, customerNum):\n",
    "    data.customerNum = customerNum\n",
    "    f = open(path, 'r')\n",
    "    lines = f.readlines()\n",
    "    count = 0\n",
    "\n",
    "    line = lines[4];\n",
    "    line = line[:-1].strip()\n",
    "    str = re.split(r\"\\s{1,}\", line)\n",
    "\n",
    "    data.vehicleNum = int(str[0])\n",
    "    data.capacity = float(str[1])\n",
    "\n",
    "    for i in range(9, len(lines)):\n",
    "        line = lines[i];\n",
    "        count = count + 1\n",
    "\n",
    "        line = line[:-1].strip()\n",
    "        str = re.split(r\"\\s{1,}\", line)\n",
    "        data.cor_X.append(float(str[1]))\n",
    "        data.cor_Y.append(float(str[2]))\n",
    "        data.demand.append(float(str[3]))\n",
    "        data.readyTime.append(float(str[4]))\n",
    "        data.dueTime.append(float(str[5]))\n",
    "        data.serviceTime.append(float(str[6]))\n",
    "\n",
    "    data.cor_X.append(data.cor_X[0])\n",
    "    data.cor_Y.append(data.cor_Y[0])\n",
    "    data.demand.append(data.demand[0])\n",
    "    data.readyTime.append(data.readyTime[0])\n",
    "    data.dueTime.append(data.dueTime[0])\n",
    "    data.serviceTime.append(data.serviceTime[0])\n",
    "\n",
    "    data.disMatrix = [([0] * (data.customerNum + 2)) for p in range(data.customerNum + 2)]\n",
    "\n",
    "    for i in range(0, data.customerNum + 2):\n",
    "        for j in range(0, data.customerNum + 2):\n",
    "            if (i != j):\n",
    "                temp = (data.cor_X[i] - data.cor_X[j]) ** 2 + (data.cor_Y[i] - data.cor_Y[j]) ** 2\n",
    "                data.disMatrix[i][j] = math.sqrt(temp)\n",
    "                temp = 0\n",
    "            else:\n",
    "                data.disMatrix[i][j] = math.sqrt(100000.0)\n",
    "    return data\n",
    "\n",
    "#---读取数据\n",
    "data = Data()\n",
    "path = './solomon-100/in/c101.txt' #读取算例数据集\n",
    "customerNum = 100  #设置客户数量\n",
    "readData(data, path, customerNum)\n",
    "BigM = 100000"
   ]
  },
  {
   "cell_type": "code",
   "execution_count": 6,
   "id": "ca9e1c7a",
   "metadata": {
    "pycharm": {
     "name": "#%%\n"
    }
   },
   "outputs": [],
   "source": [
    "x = {}  # 存放决策变量x_ijk\n",
    "s = {}  # s_ik表示车辆k开始服务客户i的时间\n",
    "\n",
    "model = Model()"
   ]
  },
  {
   "cell_type": "code",
   "execution_count": 7,
   "id": "a483cbf4",
   "metadata": {
    "pycharm": {
     "name": "#%%\n"
    }
   },
   "outputs": [],
   "source": [
    "# 定义决策变量，并加入模型当中：\n",
    "for i in range(0, data.customerNum + 2):\n",
    "    for k in range(0, data.vehicleNum):\n",
    "        name = 's_' + str(i) + '_' + str(k)\n",
    "        s[i, k] = model.addVar(0, 1500, vtype=GRB.CONTINUOUS, name=name)\n",
    "\n",
    "        for j in range(0, data.customerNum + 2):\n",
    "            if (i != j):\n",
    "                name = 'x_' + str(i) + '_' + str(j) + '_' + str(k)\n",
    "                x[i, j, k] = model.addVar(0, 1, vtype=GRB.BINARY, name=name)"
   ]
  },
  {
   "cell_type": "code",
   "execution_count": 8,
   "id": "4d314251",
   "metadata": {
    "pycharm": {
     "name": "#%%\n"
    }
   },
   "outputs": [],
   "source": [
    "# 根据式(1)定义目标函数，并加入模型当中：\n",
    "obj = LinExpr(0)\n",
    "for i in range(data.customerNum + 2):\n",
    "    for k in range(data.vehicleNum):\n",
    "        for j in range(data.customerNum + 2):\n",
    "            if (i != j):\n",
    "                obj.addTerms(data.disMatrix[i][j], x[i, j, k])\n",
    "\n",
    "model.setObjective(obj, GRB.MINIMIZE)"
   ]
  },
  {
   "cell_type": "code",
   "execution_count": 9,
   "id": "50a261e8",
   "metadata": {
    "pycharm": {
     "name": "#%%\n"
    }
   },
   "outputs": [],
   "source": [
    "# 约束二：\n",
    "for i in range(1, data.customerNum + 2 - 1):\n",
    "    lhs = LinExpr(0)\n",
    "    for k in range(data.vehicleNum):\n",
    "        for j in range(1, data.customerNum + 2):\n",
    "            if (i != j):\n",
    "                lhs.addTerms(1, x[i, j, k])\n",
    "    model.addConstr(lhs == 1, name='visit_' + str(i))\n"
   ]
  },
  {
   "cell_type": "code",
   "execution_count": 10,
   "id": "94e26237",
   "metadata": {
    "pycharm": {
     "name": "#%%\n"
    }
   },
   "outputs": [],
   "source": [
    "# 约束三：\n",
    "for k in range(0, data.vehicleNum):\n",
    "    lhs = LinExpr(0)\n",
    "    for j in range(1, data.customerNum + 2):\n",
    "        lhs.addTerms(1, x[0, j, k])\n",
    "    model.addConstr(lhs == 1, name='vehicle_' + str(k))\n"
   ]
  },
  {
   "cell_type": "code",
   "execution_count": 11,
   "id": "4793ad17",
   "metadata": {
    "pycharm": {
     "name": "#%%\n"
    }
   },
   "outputs": [],
   "source": [
    "# 约束四：\n",
    "for k in range(data.vehicleNum):\n",
    "    for h in range(1, data.customerNum + 2 - 1):\n",
    "        expr1 = LinExpr(0)\n",
    "        expr2 = LinExpr(0)\n",
    "        for i in range(data.customerNum + 2 - 1):\n",
    "            if (h != i):\n",
    "                expr1.addTerms(1, x[i, h, k])\n",
    "\n",
    "        for j in range(1, data.customerNum + 2):\n",
    "            if (h != j):\n",
    "                expr2.addTerms(1, x[h, j, k])\n",
    "\n",
    "        model.addConstr(expr1 == expr2, name='flow_conservation_' + str(i))\n",
    "        expr1.clear()\n",
    "        expr2.clear()\n"
   ]
  },
  {
   "cell_type": "code",
   "execution_count": 12,
   "id": "b936c5d2",
   "metadata": {
    "pycharm": {
     "name": "#%%\n"
    }
   },
   "outputs": [],
   "source": [
    "# 约束五：\n",
    "for k in range(data.vehicleNum):\n",
    "    lhs = LinExpr(0)\n",
    "    for j in range(data.customerNum + 2 - 1):\n",
    "        lhs.addTerms(1, x[j, data.customerNum + 2 - 1, k])\n",
    "    model.addConstr(lhs == 1, name='enter_' + str(k))\n"
   ]
  },
  {
   "cell_type": "code",
   "execution_count": 13,
   "id": "260491fa",
   "metadata": {
    "pycharm": {
     "name": "#%%\n"
    }
   },
   "outputs": [],
   "source": [
    "# 约束六\n",
    "for k in range(data.vehicleNum):\n",
    "    for i in range(data.customerNum + 2):\n",
    "        for j in range(data.customerNum + 2):\n",
    "            if (i != j):\n",
    "                model.addConstr(\n",
    "                    s[i, k] + data.disMatrix[i][j] + data.serviceTime[i] - s[j, k] - 2 * BigM + 2 * BigM * x[\n",
    "                        i, j, k] <= 0, name='time_windows_')\n"
   ]
  },
  {
   "cell_type": "code",
   "execution_count": 14,
   "id": "354f4b74",
   "metadata": {
    "pycharm": {
     "name": "#%%\n"
    }
   },
   "outputs": [],
   "source": [
    "# 约束七：\n",
    "for k in range(data.vehicleNum):\n",
    "    for i in range(1, data.customerNum + 2 - 1):\n",
    "        lhs1 = LinExpr()\n",
    "        lhs2 = LinExpr()\n",
    "        for j in range(1, data.customerNum + 2):\n",
    "            if (i != j):\n",
    "                model.addConstr(data.readyTime[i] * x[i, j, k] <= s[i, k], name='ready_time_' + str(i))\n",
    "                model.addConstr(data.dueTime[i] + (BigM - BigM * x[i, j, k]) >= s[i, k], name='due_time_' + str(i))\n"
   ]
  },
  {
   "cell_type": "code",
   "execution_count": 15,
   "id": "4d59b596",
   "metadata": {
    "pycharm": {
     "name": "#%%\n"
    }
   },
   "outputs": [],
   "source": [
    "# 约束八：\n",
    "for k in range(data.vehicleNum):\n",
    "    model.addConstr(data.readyTime[0] <= s[0, k], name='ready_time_' + str(0))\n",
    "    model.addConstr(data.dueTime[0] >= s[0, k], name='due_time_' + str(0))\n",
    "    model.addConstr(data.readyTime[data.customerNum + 1] <= s[data.customerNum + 1, k],\n",
    "                    name='ready_time_' + str(data.customerNum + 1))\n",
    "    model.addConstr(data.dueTime[data.customerNum + 1] >= s[data.customerNum + 1, k],\n",
    "                    name='due_time_' + str(data.customerNum + 1))\n"
   ]
  },
  {
   "cell_type": "code",
   "execution_count": 16,
   "id": "93a00757",
   "metadata": {
    "pycharm": {
     "name": "#%%\n"
    }
   },
   "outputs": [],
   "source": [
    "# 约束九\n",
    "for k in range(data.vehicleNum):\n",
    "    lhs = LinExpr(0)\n",
    "    for i in range(1, data.customerNum + 2 - 1):\n",
    "        for j in range(1, data.customerNum + 2):\n",
    "            if (i != j):\n",
    "                lhs.addTerms(data.demand[i], x[i, j, k])\n",
    "    model.addConstr(lhs <= data.capacity, name='capacity_' + str(k))\n"
   ]
  },
  {
   "cell_type": "code",
   "execution_count": 17,
   "id": "fff99849",
   "metadata": {
    "pycharm": {
     "name": "#%%\n"
    }
   },
   "outputs": [
    {
     "name": "stdout",
     "output_type": "stream",
     "text": [
      "Gurobi Optimizer version 9.5.0 build v9.5.0rc5 (mac64[x86])\n",
      "Thread count: 2 physical cores, 4 logical processors, using up to 4 threads\n",
      "Optimize a model with 760325 rows, 260100 columns and 2777800 nonzeros\n",
      "Model fingerprint: 0x7d33828f\n",
      "Variable types: 2550 continuous, 257550 integer (257550 binary)\n",
      "Coefficient statistics:\n",
      "  Matrix range     [1e+00, 2e+05]\n",
      "  Objective range  [1e+00, 1e+02]\n",
      "  Bounds range     [1e+00, 2e+03]\n",
      "  RHS range        [1e+00, 2e+05]\n",
      "Presolve removed 502650 rows and 5075 columns (presolve time = 5s) ...\n",
      "Presolve removed 502650 rows and 5075 columns (presolve time = 181s) ...\n",
      "Presolve removed 573673 rows and 76098 columns\n",
      "Presolve time: 183.24s\n",
      "Presolved: 186652 rows, 184002 columns, 1618343 nonzeros\n",
      "Variable types: 2500 continuous, 181502 integer (181502 binary)\n",
      "\n",
      "Deterministic concurrent LP optimizer: primal and dual simplex\n",
      "Showing first log only...\n",
      "\n",
      "\n",
      "Root simplex log...\n",
      "\n",
      "Iteration    Objective       Primal Inf.    Dual Inf.      Time\n",
      "       0    5.7709624e+03   6.915183e+02   1.949631e+10    187s\n",
      "    3866    5.4551695e+02   0.000000e+00   0.000000e+00    187s\n",
      "\n",
      "Use crossover to convert LP symmetric solution to basic solution...\n",
      "\n",
      "Root crossover log...\n",
      "\n",
      "       0 DPushes remaining with DInf 0.0000000e+00               188s\n",
      "\n",
      "    2827 PPushes remaining with PInf 0.0000000e+00               188s\n",
      "Concurrent spin time: 0.03s\n",
      "\n",
      "Solved with dual simplex\n",
      "\n",
      "Root relaxation: objective 5.455169e+02, 4573 iterations, 2.48 seconds (1.45 work units)\n",
      "\n",
      "    Nodes    |    Current Node    |     Objective Bounds      |     Work\n",
      " Expl Unexpl |  Obj  Depth IntInf | Incumbent    BestBd   Gap | It/Node Time\n",
      "\n",
      "     0     0  546.45635    0  215          -  546.45635      -     -  212s\n",
      "     0     0  547.60823    0  146          -  547.60823      -     -  220s\n",
      "     0     0  820.60720    0   77          -  820.60720      -     -  320s\n",
      "     0     0  820.60720    0  151          -  820.60720      -     -  323s\n",
      "     0     0  820.60720    0  111          -  820.60720      -     -  324s\n",
      "     0     0  820.60720    0  101          -  820.60720      -     -  327s\n",
      "     0     0  820.60720    0  101          -  820.60720      -     -  327s\n",
      "     0     0  820.60720    0   76          -  820.60720      -     -  329s\n",
      "     0     0  820.60720    0   76          -  820.60720      -     -  330s\n",
      "     0     0  820.60720    0   77          -  820.60720      -     -  333s\n",
      "     0     0  820.60720    0   77          -  820.60720      -     -  336s\n",
      "     0     0  820.60720    0   77          -  820.60720      -     -  336s\n",
      "     0     0  820.60720    0   77          -  820.60720      -     -  340s\n",
      "     0     0  820.60720    0   77          -  820.60720      -     -  351s\n",
      "H    0     0                     828.9368669  820.60720  1.00%     -  358s\n",
      "     0     0     cutoff    0       828.93687  828.93687  0.00%     -  360s\n",
      "\n",
      "Explored 1 nodes (53014 simplex iterations) in 360.86 seconds (214.79 work units)\n",
      "Thread count was 4 (of 4 available processors)\n",
      "\n",
      "Solution count 1: 828.937 \n",
      "\n",
      "Optimal solution found (tolerance 1.00e-04)\n",
      "Best objective 8.289368669428e+02, best bound 8.289368669428e+02, gap 0.0000%\n",
      "\n",
      "\n",
      "-----optimal value-----\n",
      "828.9368669428344\n"
     ]
    }
   ],
   "source": [
    "model.optimize()\n",
    "print(\"\\n\\n-----optimal value-----\")\n",
    "print(model.ObjVal)"
   ]
  },
  {
   "cell_type": "code",
   "execution_count": 18,
   "id": "ce6fa3cd",
   "metadata": {
    "pycharm": {
     "name": "#%%\n"
    }
   },
   "outputs": [
    {
     "name": "stdout",
     "output_type": "stream",
     "text": [
      "routes = \n",
      "[0,101]\n",
      "[0,101]\n",
      "[0,101]\n",
      "[0,101]\n",
      "[0,101]\n",
      "[0,5,3,7,8,10,11,9,6,4,2,1,75,101]\n",
      "[0,57,55,54,53,56,58,60,59,101]\n",
      "[0,13,17,18,19,15,16,14,12,101]\n",
      "[0,20,24,25,27,29,30,28,26,23,22,21,101]\n",
      "[0,98,96,95,94,92,93,97,100,99,101]\n",
      "[0,101]\n",
      "[0,101]\n",
      "[0,101]\n",
      "[0,101]\n",
      "[0,32,33,31,35,37,38,39,36,34,101]\n",
      "[0,81,78,76,71,70,73,77,79,80,101]\n",
      "[0,101]\n",
      "[0,43,42,41,40,44,46,45,48,51,50,52,49,47,101]\n",
      "[0,90,87,86,83,82,84,85,88,89,91,101]\n",
      "[0,101]\n",
      "[0,101]\n",
      "[0,101]\n",
      "[0,101]\n",
      "[0,101]\n",
      "[0,67,65,63,62,74,72,61,64,68,66,69,101]\n"
     ]
    }
   ],
   "source": [
    "print(\"routes = \")\n",
    "for k in range(data.vehicleNum):\n",
    "    sys.stdout.write(\"[\")\n",
    "    i = 0;\n",
    "    while i <= customerNum + 2 - 1:\n",
    "        if(i == customerNum + 1):\n",
    "            sys.stdout.write(str(i))\n",
    "            break\n",
    "        for j in range(1,data.customerNum + 2):\n",
    "            if(i != j and x[i,j,k].x > 0):\n",
    "                sys.stdout.write(str(i) + \",\")\n",
    "                break;\n",
    "        i = j\n",
    "    sys.stdout.write(\"]\")\n",
    "    print(\"\")"
   ]
  },
  {
   "cell_type": "code",
   "execution_count": null,
   "id": "fe2307b2",
   "metadata": {
    "pycharm": {
     "name": "#%%\n"
    }
   },
   "outputs": [],
   "source": []
  }
 ],
 "metadata": {
  "kernelspec": {
   "display_name": "Python 3",
   "language": "python",
   "name": "python3"
  },
  "language_info": {
   "codemirror_mode": {
    "name": "ipython",
    "version": 3
   },
   "file_extension": ".py",
   "mimetype": "text/x-python",
   "name": "python",
   "nbconvert_exporter": "python",
   "pygments_lexer": "ipython3",
   "version": "3.8.8"
  }
 },
 "nbformat": 4,
 "nbformat_minor": 5
}