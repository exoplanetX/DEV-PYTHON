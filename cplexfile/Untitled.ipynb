{
 "cells": [
  {
   "cell_type": "code",
   "execution_count": 3,
   "id": "58f17ea2",
   "metadata": {},
   "outputs": [],
   "source": [
    "import cplex"
   ]
  },
  {
   "cell_type": "code",
   "execution_count": 4,
   "id": "466fd984",
   "metadata": {},
   "outputs": [],
   "source": [
    "md=cplex.Cplex()"
   ]
  },
  {
   "cell_type": "code",
   "execution_count": 5,
   "id": "9ec9dd41",
   "metadata": {},
   "outputs": [
    {
     "name": "stderr",
     "output_type": "stream",
     "text": [
      "Row 'D_19' repeats.\n",
      "Row 'D_19' repeats.\n",
      "Row 'D_19' repeats.\n",
      "Row 'D_19' repeats.\n",
      "Row 'D_19' repeats.\n",
      "14 repeated row warnings not printed.\n"
     ]
    }
   ],
   "source": [
    "md.read(\"model.lp\")"
   ]
  },
  {
   "cell_type": "code",
   "execution_count": null,
   "id": "78baea82",
   "metadata": {},
   "outputs": [],
   "source": []
  }
 ],
 "metadata": {
  "kernelspec": {
   "display_name": "Python 3",
   "language": "python",
   "name": "python3"
  },
  "language_info": {
   "codemirror_mode": {
    "name": "ipython",
    "version": 3
   },
   "file_extension": ".py",
   "mimetype": "text/x-python",
   "name": "python",
   "nbconvert_exporter": "python",
   "pygments_lexer": "ipython3",
   "version": "3.8.8"
  }
 },
 "nbformat": 4,
 "nbformat_minor": 5
}
