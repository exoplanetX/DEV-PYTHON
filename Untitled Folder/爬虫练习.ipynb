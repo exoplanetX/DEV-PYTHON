{
 "cells": [
  {
   "cell_type": "code",
   "execution_count": 2,
   "id": "be8f51ab",
   "metadata": {},
   "outputs": [
    {
     "name": "stdout",
     "output_type": "stream",
     "text": [
      "https://movie.douban.com/tag?start=0\n",
      "https://movie.douban.com/tag?start=20\n",
      "https://movie.douban.com/tag?start=40\n",
      "https://movie.douban.com/tag?start=60\n",
      "https://movie.douban.com/tag?start=80\n",
      "https://movie.douban.com/tag?start=100\n",
      "https://movie.douban.com/tag?start=120\n",
      "https://movie.douban.com/tag?start=140\n",
      "https://movie.douban.com/tag?start=160\n",
      "https://movie.douban.com/tag?start=180\n",
      "https://movie.douban.com/tag?start=200\n",
      "https://movie.douban.com/tag?start=220\n",
      "https://movie.douban.com/tag?start=240\n",
      "https://movie.douban.com/tag?start=260\n",
      "https://movie.douban.com/tag?start=280\n",
      "https://movie.douban.com/tag?start=300\n",
      "https://movie.douban.com/tag?start=320\n",
      "https://movie.douban.com/tag?start=340\n",
      "https://movie.douban.com/tag?start=360\n",
      "https://movie.douban.com/tag?start=380\n",
      "https://movie.douban.com/tag?start=400\n",
      "https://movie.douban.com/tag?start=420\n",
      "https://movie.douban.com/tag?start=440\n",
      "https://movie.douban.com/tag?start=460\n",
      "https://movie.douban.com/tag?start=480\n",
      "https://movie.douban.com/tag?start=500\n",
      "https://movie.douban.com/tag?start=520\n",
      "https://movie.douban.com/tag?start=540\n",
      "https://movie.douban.com/tag?start=560\n",
      "https://movie.douban.com/tag?start=580\n",
      "https://movie.douban.com/tag?start=600\n",
      "https://movie.douban.com/tag?start=620\n",
      "https://movie.douban.com/tag?start=640\n",
      "https://movie.douban.com/tag?start=660\n",
      "https://movie.douban.com/tag?start=680\n",
      "https://movie.douban.com/tag?start=700\n",
      "https://movie.douban.com/tag?start=720\n",
      "https://movie.douban.com/tag?start=740\n",
      "https://movie.douban.com/tag?start=760\n",
      "https://movie.douban.com/tag?start=780\n",
      "https://movie.douban.com/tag?start=800\n",
      "https://movie.douban.com/tag?start=820\n",
      "https://movie.douban.com/tag?start=840\n",
      "https://movie.douban.com/tag?start=860\n",
      "https://movie.douban.com/tag?start=880\n",
      "https://movie.douban.com/tag?start=900\n",
      "https://movie.douban.com/tag?start=920\n",
      "https://movie.douban.com/tag?start=940\n",
      "https://movie.douban.com/tag?start=960\n",
      "https://movie.douban.com/tag?start=980\n",
      "https://movie.douban.com/tag?start=1000\n",
      "https://movie.douban.com/tag?start=1020\n",
      "https://movie.douban.com/tag?start=1040\n",
      "https://movie.douban.com/tag?start=1060\n",
      "https://movie.douban.com/tag?start=1080\n",
      "https://movie.douban.com/tag?start=1100\n",
      "https://movie.douban.com/tag?start=1120\n",
      "https://movie.douban.com/tag?start=1140\n",
      "https://movie.douban.com/tag?start=1160\n",
      "https://movie.douban.com/tag?start=1180\n",
      "https://movie.douban.com/tag?start=1200\n",
      "https://movie.douban.com/tag?start=1220\n",
      "https://movie.douban.com/tag?start=1240\n",
      "https://movie.douban.com/tag?start=1260\n",
      "https://movie.douban.com/tag?start=1280\n",
      "https://movie.douban.com/tag?start=1300\n",
      "https://movie.douban.com/tag?start=1320\n",
      "https://movie.douban.com/tag?start=1340\n",
      "https://movie.douban.com/tag?start=1360\n",
      "https://movie.douban.com/tag?start=1380\n",
      "https://movie.douban.com/tag?start=1400\n",
      "https://movie.douban.com/tag?start=1420\n",
      "https://movie.douban.com/tag?start=1440\n",
      "https://movie.douban.com/tag?start=1460\n",
      "https://movie.douban.com/tag?start=1480\n",
      "https://movie.douban.com/tag?start=1500\n",
      "https://movie.douban.com/tag?start=1520\n",
      "https://movie.douban.com/tag?start=1540\n",
      "https://movie.douban.com/tag?start=1560\n",
      "https://movie.douban.com/tag?start=1580\n",
      "https://movie.douban.com/tag?start=1600\n",
      "https://movie.douban.com/tag?start=1620\n",
      "https://movie.douban.com/tag?start=1640\n",
      "https://movie.douban.com/tag?start=1660\n",
      "https://movie.douban.com/tag?start=1680\n",
      "https://movie.douban.com/tag?start=1700\n",
      "https://movie.douban.com/tag?start=1720\n",
      "https://movie.douban.com/tag?start=1740\n",
      "https://movie.douban.com/tag?start=1760\n",
      "https://movie.douban.com/tag?start=1780\n",
      "https://movie.douban.com/tag?start=1800\n",
      "https://movie.douban.com/tag?start=1820\n",
      "https://movie.douban.com/tag?start=1840\n"
     ]
    }
   ],
   "source": [
    "base_url=\"https://movie.douban.com/tag?start={num}\"\n",
    "for page in range(1,94,1):\n",
    "    Num=page-1\n",
    "    url=base_url.format(num=Num*20)\n",
    "    print(url)"
   ]
  },
  {
   "cell_type": "code",
   "execution_count": 4,
   "id": "936bcb50",
   "metadata": {},
   "outputs": [],
   "source": [
    "import requests"
   ]
  },
  {
   "cell_type": "code",
   "execution_count": 5,
   "id": "cf5714b6",
   "metadata": {},
   "outputs": [],
   "source": [
    "url=\"http://www.jianshu.com\""
   ]
  },
  {
   "cell_type": "code",
   "execution_count": 6,
   "id": "0ebc2105",
   "metadata": {},
   "outputs": [],
   "source": [
    "r=requests.get(url)"
   ]
  },
  {
   "cell_type": "code",
   "execution_count": 7,
   "id": "fb61d8ab",
   "metadata": {},
   "outputs": [
    {
     "name": "stdout",
     "output_type": "stream",
     "text": [
      "<Response [403]>\n"
     ]
    }
   ],
   "source": [
    "print(r)"
   ]
  },
  {
   "cell_type": "code",
   "execution_count": null,
   "id": "72f82fba",
   "metadata": {},
   "outputs": [],
   "source": [
    "import"
   ]
  }
 ],
 "metadata": {
  "kernelspec": {
   "display_name": "Python 3",
   "language": "python",
   "name": "python3"
  },
  "language_info": {
   "codemirror_mode": {
    "name": "ipython",
    "version": 3
   },
   "file_extension": ".py",
   "mimetype": "text/x-python",
   "name": "python",
   "nbconvert_exporter": "python",
   "pygments_lexer": "ipython3",
   "version": "3.8.8"
  }
 },
 "nbformat": 4,
 "nbformat_minor": 5
}
